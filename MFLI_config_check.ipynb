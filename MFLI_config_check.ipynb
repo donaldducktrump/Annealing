{
 "cells": [
  {
   "cell_type": "code",
   "execution_count": 1,
   "metadata": {},
   "outputs": [
    {
     "ename": "ModuleNotFoundError",
     "evalue": "No module named 'zhinst'",
     "output_type": "error",
     "traceback": [
      "\u001b[1;31m---------------------------------------------------------------------------\u001b[0m",
      "\u001b[1;31mModuleNotFoundError\u001b[0m                       Traceback (most recent call last)",
      "Cell \u001b[1;32mIn[1], line 1\u001b[0m\n\u001b[1;32m----> 1\u001b[0m \u001b[38;5;28;01mfrom\u001b[39;00m \u001b[38;5;21;01mzhinst\u001b[39;00m\u001b[38;5;21;01m.\u001b[39;00m\u001b[38;5;21;01mqcodes\u001b[39;00m \u001b[38;5;28;01mimport\u001b[39;00m MFLI\n\u001b[0;32m      2\u001b[0m device \u001b[38;5;241m=\u001b[39m MFLI(\u001b[38;5;124m\"\u001b[39m\u001b[38;5;124mDEV5149\u001b[39m\u001b[38;5;124m\"\u001b[39m, host \u001b[38;5;241m=\u001b[39m \u001b[38;5;124m\"\u001b[39m\u001b[38;5;124m169.254.254.194\u001b[39m\u001b[38;5;124m\"\u001b[39m)\n\u001b[0;32m      3\u001b[0m session \u001b[38;5;241m=\u001b[39m device\u001b[38;5;241m.\u001b[39msession\n",
      "\u001b[1;31mModuleNotFoundError\u001b[0m: No module named 'zhinst'"
     ]
    }
   ],
   "source": [
    "from zhinst.qcodes import MFLI\n",
    "device = MFLI(\"DEV5149\", host = \"169.254.254.194\")\n",
    "session = device.session"
   ]
  },
  {
   "cell_type": "markdown",
   "metadata": {},
   "source": [
    "# Lock-in output"
   ]
  },
  {
   "cell_type": "markdown",
   "metadata": {},
   "source": [
    "## on&off"
   ]
  },
  {
   "cell_type": "code",
   "execution_count": 6,
   "metadata": {},
   "outputs": [],
   "source": [
    "OUT_CHANNEL = 0\n",
    "device.sigouts[OUT_CHANNEL].on(False)"
   ]
  },
  {
   "cell_type": "markdown",
   "metadata": {},
   "source": [
    "## Frequency"
   ]
  },
  {
   "cell_type": "code",
   "execution_count": 8,
   "metadata": {},
   "outputs": [],
   "source": [
    "OSC_INDEX=0\n",
    "device.oscs[OSC_INDEX].freq(400e3)"
   ]
  },
  {
   "cell_type": "code",
   "execution_count": 2,
   "metadata": {},
   "outputs": [],
   "source": [
    "OUT_MIXER_CHANNEL = 1\n",
    "DEMOD_INDEX = 0\n",
    "device.demods[DEMOD_INDEX].harmonic(1)"
   ]
  },
  {
   "cell_type": "code",
   "execution_count": 13,
   "metadata": {},
   "outputs": [],
   "source": [
    "OUT_MIXER_CHANNEL = 1\n",
    "device.demods[DEMOD_INDEX].phaseshift(0)"
   ]
  },
  {
   "cell_type": "code",
   "execution_count": 20,
   "metadata": {},
   "outputs": [],
   "source": [
    "OUT_CHANNEL = 0\n",
    "device.sigouts[OUT_CHANNEL].amplitudes[1].value(2e-3)"
   ]
  },
  {
   "cell_type": "code",
   "execution_count": 23,
   "metadata": {},
   "outputs": [],
   "source": [
    "OUT_CHANNEL = 0\n",
    "device.sigouts[OUT_CHANNEL].imp50(0)"
   ]
  },
  {
   "cell_type": "code",
   "execution_count": 27,
   "metadata": {},
   "outputs": [],
   "source": [
    "OUT_CHANNEL = 0\n",
    "device.sigouts[OUT_CHANNEL].autorange(0)"
   ]
  },
  {
   "cell_type": "code",
   "execution_count": 30,
   "metadata": {},
   "outputs": [],
   "source": [
    "OUT_CHANNEL = 0\n",
    "device.sigouts[OUT_CHANNEL].range(10e-3) #10m,100m,1,10\n"
   ]
  },
  {
   "cell_type": "code",
   "execution_count": 31,
   "metadata": {},
   "outputs": [],
   "source": [
    "OUT_CHANNEL = 0\n",
    "device.sigouts[OUT_CHANNEL].offset(0)"
   ]
  },
  {
   "cell_type": "code",
   "execution_count": 33,
   "metadata": {},
   "outputs": [],
   "source": [
    "OUT_CHANNEL = 0\n",
    "device.sigouts[OUT_CHANNEL].diff(0)"
   ]
  },
  {
   "cell_type": "markdown",
   "metadata": {},
   "source": []
  },
  {
   "cell_type": "code",
   "execution_count": 3,
   "metadata": {},
   "outputs": [],
   "source": [
    "IN_CHANNEL = 0\n",
    "device.currins[IN_CHANNEL].float(0)"
   ]
  },
  {
   "cell_type": "code",
   "execution_count": 8,
   "metadata": {},
   "outputs": [],
   "source": [
    "IN_CHANNEL = 0\n",
    "device.currins[IN_CHANNEL].autorange(0)"
   ]
  },
  {
   "cell_type": "code",
   "execution_count": 9,
   "metadata": {},
   "outputs": [],
   "source": [
    "IN_CHANNEL = 0\n",
    "device.currins[IN_CHANNEL].range(1)"
   ]
  },
  {
   "cell_type": "code",
   "execution_count": 11,
   "metadata": {},
   "outputs": [],
   "source": [
    "IN_CHANNEL = 0\n",
    "device.currins[IN_CHANNEL].scaling(1)"
   ]
  },
  {
   "cell_type": "code",
   "execution_count": 14,
   "metadata": {},
   "outputs": [],
   "source": [
    "IN_CHANNEL = 0\n",
    "device.sigins[IN_CHANNEL].float(0) #granded=0\n"
   ]
  },
  {
   "cell_type": "code",
   "execution_count": 17,
   "metadata": {},
   "outputs": [],
   "source": [
    "IN_CHANNEL = 0\n",
    "device.sigins[IN_CHANNEL].diff(1) #diff=1"
   ]
  },
  {
   "cell_type": "code",
   "execution_count": 19,
   "metadata": {},
   "outputs": [],
   "source": [
    "IN_CHANNEL = 0\n",
    "device.sigins[IN_CHANNEL].imp50(0) #on=1"
   ]
  },
  {
   "cell_type": "code",
   "execution_count": 21,
   "metadata": {},
   "outputs": [],
   "source": [
    "IN_CHANNEL = 0\n",
    "device.sigins[IN_CHANNEL].ac(0) #on=1"
   ]
  },
  {
   "cell_type": "code",
   "execution_count": 25,
   "metadata": {},
   "outputs": [],
   "source": [
    "IN_CHANNEL = 0\n",
    "device.sigins[IN_CHANNEL].autorange(0) #on=1"
   ]
  },
  {
   "cell_type": "code",
   "execution_count": 27,
   "metadata": {},
   "outputs": [],
   "source": [
    "IN_CHANNEL = 0\n",
    "device.sigins[IN_CHANNEL].range(1e-2) #on=1"
   ]
  },
  {
   "cell_type": "code",
   "execution_count": 30,
   "metadata": {},
   "outputs": [],
   "source": [
    "IN_CHANNEL = 0\n",
    "device.sigins[IN_CHANNEL].scaling(1) #on=1"
   ]
  },
  {
   "cell_type": "code",
   "execution_count": 32,
   "metadata": {},
   "outputs": [],
   "source": [
    "DEMOD_INDEX = 0\n",
    "device.demods[DEMOD_INDEX].order(3)"
   ]
  },
  {
   "cell_type": "code",
   "execution_count": 34,
   "metadata": {},
   "outputs": [],
   "source": [
    "DEMOD_INDEX = 0\n",
    "device.demods[DEMOD_INDEX].sinc(1)"
   ]
  },
  {
   "cell_type": "code",
   "execution_count": 4,
   "metadata": {},
   "outputs": [],
   "source": [
    "DEMOD_INDEX = 0\n",
    "device.demods[DEMOD_INDEX].enable(1)"
   ]
  }
 ],
 "metadata": {
  "kernelspec": {
   "display_name": ".venv",
   "language": "python",
   "name": "python3"
  },
  "language_info": {
   "codemirror_mode": {
    "name": "ipython",
    "version": 3
   },
   "file_extension": ".py",
   "mimetype": "text/x-python",
   "name": "python",
   "nbconvert_exporter": "python",
   "pygments_lexer": "ipython3",
   "version": "3.12.0"
  }
 },
 "nbformat": 4,
 "nbformat_minor": 2
}
