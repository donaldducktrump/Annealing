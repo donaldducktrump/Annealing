{
 "cells": [
  {
   "cell_type": "code",
   "execution_count": null,
   "metadata": {},
   "outputs": [],
   "source": [
    "import qcodes as qc\n",
    "from zhinst.qcodes import ZISession\n",
    "import h5py\n",
    "station = qc.Station()\n",
    "\n",
    "device_id = \"DEV5149\"  # 実際のデバイスIDに置き換えてください\n",
    "server_host = \"169.254.254.194\"  # 実際のサーバーホストに置き換えてください\n",
    "session = ZISession(server_host)\n",
    "MFLI_lockin = session.connect_device(device_id)\n",
    "station.add_component(MFLI_lockin)"
   ]
  },
  {
   "cell_type": "code",
   "execution_count": null,
   "metadata": {},
   "outputs": [],
   "source": [
    "OUT_CHANNEL = 0\n",
    "OUT_MIXER_CHANNEL = 1 # UHFLI: 3, HF2LI: 6, MFLI: 1\n",
    "IN_CHANNEL = 0\n",
    "DEMOD_INDEX = 0\n",
    "OSC_INDEX = 0\n",
    "\n",
    "with MFLI_lockin.set_transaction():\n",
    "    # MFLI_lockin.sigins[IN_CHANNEL].float(0) #grounded=0\n",
    "    # MFLI_lockin.sigins[IN_CHANNEL].diff(1) #diff=1\n",
    "    MFLI_lockin.sigins[IN_CHANNEL].ac(0)\n",
    "    # MFLI_lockin.sigins[IN_CHANNEL].arange(0.2)\n",
    "    MFLI_lockin.sigins[IN_CHANNEL].autorange(1) #on=1\n",
    "\n",
    "    MFLI_lockin.demods[DEMOD_INDEX].enable(True)\n",
    "    MFLI_lockin.demods[DEMOD_INDEX].rate(10e3)\n",
    "    MFLI_lockin.demods[DEMOD_INDEX].adcselect(IN_CHANNEL)\n",
    "    MFLI_lockin.demods[DEMOD_INDEX].timeconstant(0.01)\n",
    "    MFLI_lockin.demods[DEMOD_INDEX].oscselect(OSC_INDEX)\n",
    "    MFLI_lockin.demods[DEMOD_INDEX].harmonic(1)\n",
    "    # MFLI_lockin.demods[DEMOD_INDEX].phaseshift(0)\n",
    "    # MFLI_lockin.demods[DEMOD_INDEX].order(3)\n",
    "    # MFLI_lockin.demods[DEMOD_INDEX].sinc(1)\n",
    "    # MFLI_lockin.demods[DEMOD_INDEX].enable(1)\n",
    "\n",
    "    MFLI_lockin.sigouts[OUT_CHANNEL].on(False)\n",
    "    MFLI_lockin.sigouts[OUT_CHANNEL].enables[OUT_MIXER_CHANNEL].value(1)\n",
    "    # MFLI_lockin.sigouts[OUT_CHANNEL].range(1)\n",
    "    # MFLI_lockin.sigouts[OUT_CHANNEL].amplitudes[0].value(OUT_MIXER_CHANNEL)\n",
    "    MFLI_lockin.sigouts[OUT_CHANNEL].amplitudes[1].value(2e-3)\n",
    "    # MFLI_lockin.sigouts[OUT_CHANNEL].amplitudes[2].value(OUT_MIXER_CHANNEL)\n",
    "    # MFLI_lockin.sigouts[OUT_CHANNEL].amplitudes[3].value(OUT_MIXER_CHANNEL)\n",
    "    MFLI_lockin.sigouts[OUT_CHANNEL].autorange(0)\n"
   ]
  },
  {
   "cell_type": "code",
   "execution_count": null,
   "metadata": {},
   "outputs": [],
   "source": [
    "LOOPCOUNT = 1\n",
    "\n",
    "sweeper = session.modules.sweeper\n",
    "sweeper.device(MFLI_lockin)\n",
    "\n",
    "sweeper.gridnode(MFLI_lockin.oscs[OSC_INDEX].freq)\n",
    "sweeper.start(4e3)\n",
    "sweeper.stop(500e3) # 500e3 for MF MFLI_lockins, 50e6 for others\n",
    "sweeper.samplecount(100)\n",
    "sweeper.xmapping(1)\n",
    "sweeper.bandwidthcontrol(2)\n",
    "sweeper.bandwidthoverlap(0)\n",
    "sweeper.scan(0)\n",
    "sweeper.loopcount(LOOPCOUNT)\n",
    "sweeper.settling.time(0)\n",
    "sweeper.settling.inaccuracy(0.001)\n",
    "sweeper.averaging.tc(10)\n",
    "sweeper.averaging.sample(10)"
   ]
  },
  {
   "cell_type": "code",
   "execution_count": null,
   "metadata": {},
   "outputs": [],
   "source": [
    "sample_node = MFLI_lockin.demods[DEMOD_INDEX].sample\n",
    "sweeper.subscribe(sample_node)"
   ]
  },
  {
   "cell_type": "code",
   "execution_count": null,
   "metadata": {},
   "outputs": [],
   "source": [
    "sample_node()"
   ]
  },
  {
   "cell_type": "code",
   "execution_count": null,
   "metadata": {},
   "outputs": [],
   "source": [
    "sweeper.save.fileformat.node_info.options"
   ]
  },
  {
   "cell_type": "code",
   "execution_count": null,
   "metadata": {},
   "outputs": [],
   "source": [
    "sweeper.save.filename('sweep_with_save')\n",
    "sweeper.save.fileformat('hdf5')"
   ]
  },
  {
   "cell_type": "code",
   "execution_count": null,
   "metadata": {},
   "outputs": [],
   "source": [
    "import logging\n",
    "import sys\n",
    "\n",
    "handler = logging.StreamHandler(sys.stdout)\n",
    "logging.getLogger(\"zhinst.toolkit\").setLevel(logging.INFO)\n",
    "logging.getLogger(\"zhinst.toolkit\").addHandler(handler)\n",
    "sweeper.save.saveonread(True)"
   ]
  },
  {
   "cell_type": "code",
   "execution_count": null,
   "metadata": {},
   "outputs": [],
   "source": [
    "sweeper.execute()\n",
    "sweeper.read()\n",
    "print(f\"Perform {LOOPCOUNT} sweeps\")\n",
    "sweeper.wait_done(timeout=300)"
   ]
  },
  {
   "cell_type": "code",
   "execution_count": null,
   "metadata": {},
   "outputs": [],
   "source": [
    "sweeper.save.save(True)\n",
    "# Wait until the save is complete. The saving is done asynchronously in the background\n",
    "# so we need to wait until it is complete. In the case of the sweeper it is important\n",
    "# to wait for completion before before performing the module read command. The sweeper has\n",
    "# a special fast read command which could otherwise be executed before the saving has\n",
    "# started.\n",
    "sweeper.save.save.wait_for_state_change(True, invert=True, timeout=5)"
   ]
  },
  {
   "cell_type": "code",
   "execution_count": null,
   "metadata": {},
   "outputs": [],
   "source": [
    "sweeper.unsubscribe(sample_node)\n",
    "data = sweeper.read()"
   ]
  },
  {
   "cell_type": "code",
   "execution_count": null,
   "metadata": {},
   "outputs": [],
   "source": [
    "print(data[sample_node][0][0]['frequency'])"
   ]
  },
  {
   "cell_type": "code",
   "execution_count": null,
   "metadata": {},
   "outputs": [],
   "source": [
    "type(data)"
   ]
  },
  {
   "cell_type": "code",
   "execution_count": null,
   "metadata": {},
   "outputs": [],
   "source": [
    "num_sweeps = len(data[sample_node])\n",
    "assert num_sweeps == LOOPCOUNT, (\n",
    "    f\"The sweeper returned an unexpected number of sweeps: \"\n",
    "    f\"{num_sweeps}. Expected: {LOOPCOUNT}.\"\n",
    ")"
   ]
  },
  {
   "cell_type": "code",
   "execution_count": null,
   "metadata": {},
   "outputs": [],
   "source": [
    "import matplotlib.pyplot as plt\n",
    "import numpy as np\n",
    "\n",
    "node_samples = data[sample_node]\n",
    "\n",
    "_, (ax1, ax2) = plt.subplots(2, 1)\n",
    "for sample in node_samples:\n",
    "    frequency = sample[0][\"frequency\"]\n",
    "    demod_r = np.abs(sample[0][\"x\"] + 1j * sample[0][\"y\"])\n",
    "    phi = np.angle(sample[0][\"x\"] + 1j * sample[0][\"y\"])\n",
    "    ax1.plot(frequency, demod_r)\n",
    "    ax2.plot(frequency, phi)\n",
    "ax1.set_title(f\"Results of {len(node_samples)} sweeps.\")\n",
    "ax1.grid()\n",
    "ax1.set_ylabel(r\"Demodulator R ($V_\\mathrm{RMS}$)\")\n",
    "ax1.set_xscale(\"log\")\n",
    "ax1.autoscale()\n",
    "\n",
    "ax2.grid()\n",
    "ax2.set_xlabel(\"Frequency ($Hz$)\")\n",
    "ax2.set_ylabel(r\"Demodulator Phi (radians)\")\n",
    "ax2.set_xscale(\"log\")\n",
    "ax2.autoscale()\n",
    "\n",
    "plt.draw()\n",
    "plt.show()"
   ]
  },
  {
   "cell_type": "markdown",
   "metadata": {},
   "source": [
    "#Live Plot Test"
   ]
  },
  {
   "cell_type": "code",
   "execution_count": null,
   "metadata": {},
   "outputs": [],
   "source": [
    "import time\n",
    "import os\n",
    "import qcodes as qc\n",
    "\n",
    "import numpy as np\n",
    "from plottr.data.datadict_storage import DataDict, DDH5Writer\n",
    "from tqdm import tqdm"
   ]
  },
  {
   "cell_type": "code",
   "execution_count": null,
   "metadata": {},
   "outputs": [],
   "source": [
    "import logging\n",
    "import sys\n",
    "\n",
    "handler = logging.StreamHandler(sys.stdout)\n",
    "logging.getLogger(\"zhinst.toolkit\").setLevel(logging.INFO)\n",
    "logging.getLogger(\"zhinst.toolkit\").addHandler(handler)\n",
    "\n",
    "sample_node = MFLI_lockin.demods[DEMOD_INDEX].sample\n",
    "sweeper.subscribe(sample_node)"
   ]
  },
  {
   "cell_type": "code",
   "execution_count": null,
   "metadata": {},
   "outputs": [],
   "source": [
    "data_path = 'C:\\\\Users\\\\qipe\\\\annealing\\\\data'\n",
    "timestr = time.strftime(\"%Y%m%d-%H%M%S\")\n",
    "measurement_name = timestr"
   ]
  },
  {
   "cell_type": "code",
   "execution_count": null,
   "metadata": {},
   "outputs": [],
   "source": [
    "data_dict = DataDict(\n",
    "    freq = dict(unit ='Hz'),\n",
    "    amp = dict(unit = 'V', axes = [\"freq\"])\n",
    ")\n",
    "data_dict.validate"
   ]
  },
  {
   "cell_type": "code",
   "execution_count": null,
   "metadata": {},
   "outputs": [],
   "source": [
    "def freq_sweep():\n",
    "    MFLI_lockin.sigouts[OUT_CHANNEL].on(True)\n",
    "    sweeper.save.saveonread(True)\n",
    "    sweeper.execute()\n",
    "    print(f\"Perform {LOOPCOUNT} sweeps\")\n",
    "    try:\n",
    "        while sweeper.progress() < 1.0:\n",
    "            print(f\"progress {sweeper.progress()*100}%\")\n",
    "            data = sweeper.read()\n",
    "            time.sleep(0.1)\n",
    "    finally:\n",
    "        data = sweeper.read()\n",
    "        MFLI_lockin.sigouts[OUT_CHANNEL].on(False)\n",
    "        sweeper.unsubscribe(sample_node)\n",
    "        return data\n",
    "        # sweeper.save.save(True)\n",
    "        # # Wait until the save is complete. The saving is done asynchronously in the background\n",
    "        # # so we need to wait until it is complete. In the case of the sweeper it is important\n",
    "        # # to wait for completion before before performing the module read command. The sweeper has\n",
    "        # # a special fast read command which could otherwise be executed before the saving has\n",
    "        # # started.\n",
    "        # sweeper.save.save.wait_for_state_change(True, invert=True, timeout=5)\n",
    " "
   ]
  },
  {
   "cell_type": "code",
   "execution_count": null,
   "metadata": {},
   "outputs": [],
   "source": [
    "with DDH5Writer(data_dict, data_path, name = measurement_name) as writer:\n",
    "    data = freq_sweep()\n",
    "    writer.add_data(\n",
    "        freq = data[sample_node][0][0][\"frequency\"],\n",
    "        amp = data[sample_node][0][0][\"r\"]\n",
    "    )"
   ]
  },
  {
   "cell_type": "code",
   "execution_count": null,
   "metadata": {},
   "outputs": [],
   "source": [
    "data[sample_node][0][0][\"r\"]"
   ]
  },
  {
   "cell_type": "code",
   "execution_count": null,
   "metadata": {},
   "outputs": [],
   "source": [
    "data[sample_node][0][0][\"frequency\"]"
   ]
  }
 ],
 "metadata": {
  "kernelspec": {
   "display_name": "annealing",
   "language": "python",
   "name": "python3"
  },
  "language_info": {
   "name": "python",
   "version": "3.12.0"
  }
 },
 "nbformat": 4,
 "nbformat_minor": 2
}
